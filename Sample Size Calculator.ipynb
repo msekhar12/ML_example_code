{
 "cells": [
  {
   "cell_type": "markdown",
   "metadata": {},
   "source": [
    "# Sample size calculator\n",
    "\n",
    "A simple program to calculate the required sample size to perform statistical testing."
   ]
  },
  {
   "cell_type": "markdown",
   "metadata": {},
   "source": [
    "**Input**\n",
    "\n",
    "1. _alpha_ ($\\alpha$ or significance level)\n",
    "2. _beta_ ($\\beta$ or acceptable type-2 error or (1-power))\n",
    "3. Observed _p_ (proportion)\n",
    "4. Desired minimum difference in the experiment: _d_\n"
   ]
  },
  {
   "cell_type": "markdown",
   "metadata": {},
   "source": [
    "**Example**\n",
    "\n",
    "Assume that you observed that 20% of your website visitors click a button. You wanted to change the color of this button. So you need to determine the required sample size to determine if the change is optimal. You expect that the change should improve the click-through-probability by 3%. You wanted to use a significance level of 5%, and power of the test as 80%. Supply the following parameters to find the desired sample size in each group:\n",
    "\n",
    "    alpha = 0.05\n",
    "    beta = 0.2\n",
    "    p = 0.2\n",
    "    d = 0.03"
   ]
  },
  {
   "cell_type": "code",
   "execution_count": 42,
   "metadata": {},
   "outputs": [],
   "source": [
    "#Import required packages\n",
    "import scipy.stats as st\n",
    "import numpy as np\n",
    "\n",
    "#Create a function to get the z-score for a desired significance level.\n",
    "#Returns only the positive side of the z-score, assuming that the alpha is for 2 tail testing\n",
    "def get_z_score(alpha):\n",
    "    return st.norm.ppf(alpha/2.0)\n",
    "\n",
    "#Create a function to return the p_value for an associated z-score    \n",
    "def get_pvalue(z_score):\n",
    "    return st.norm.cdf(z_score)\n",
    "\n",
    "\n",
    "def check_values(alpha, beta, p, d):\n",
    "    try:\n",
    "        if alpha > 1 or alpha <0:\n",
    "            print(\"Supplied alpha value must be float and between (0,1)\")\n",
    "    except:\n",
    "        print(\"Supplied alpha value must be float and between (0,1)\")\n",
    "    try: \n",
    "        if beta > 1 or beta <0:\n",
    "            print(\"Supplied beta value must be float and between (0,1)\")\n",
    "    except:\n",
    "        print(\"Supplied beta value must be float and between (0,1)\")\n",
    "    try: \n",
    "        if p > 1 or p <0:\n",
    "            print(\"Supplied p value must be float and between (0,1)\")\n",
    "    except:\n",
    "        print(\"Supplied p value must be float and between (0,1)\")\n",
    "        \n",
    "    if type(d) != float and type(d) != int:\n",
    "        raise Exception(\"Supplied d value must be float\")\n",
    "        exit(1)\n",
    "\n",
    "def find_sample_size(alpha, beta, p, d):\n",
    "    check_values(alpha, beta, p, d)\n",
    "    \n",
    "    #Get the z-score on the positive side, for the sig. level of alpha:\n",
    "    z_score = -1*get_z_score(alpha)\n",
    "    \n",
    "    #Compute the q value, which is nothing but 1-p\n",
    "    q = 1-p\n",
    "    \n",
    "    \n",
    "    for n in range(1,20000,1):\n",
    "        se_1 = np.sqrt(p*q*2.0/n)\n",
    "        \n",
    "        #Find the positive boundary using the above se, assuming the true difference as 0\n",
    "        x = z_score * se_1\n",
    "        \n",
    "        #Check where this x lies (p-value), assuming the true difference as d\n",
    "        se_2 = np.sqrt((p+d)*(1-p-d)*2.0/n)\n",
    "        z_score_2 = (x-d)/se_2\n",
    "        \n",
    "        #Find the p-value of z_score_2\n",
    "        temp_beta = get_pvalue(z_score_2)\n",
    "        \n",
    "        if temp_beta <= beta:\n",
    "            return n\n",
    "    \n",
    "    return -1   \n",
    "        \n",
    "        \n",
    "        \n",
    "    "
   ]
  },
  {
   "cell_type": "code",
   "execution_count": 44,
   "metadata": {},
   "outputs": [
    {
     "data": {
      "text/plain": [
       "2879"
      ]
     },
     "execution_count": 44,
     "metadata": {},
     "output_type": "execute_result"
    }
   ],
   "source": [
    "find_sample_size(alpha=.05, beta=.2, p=.2, d=.03)"
   ]
  },
  {
   "cell_type": "code",
   "execution_count": 52,
   "metadata": {
    "collapsed": true
   },
   "outputs": [],
   "source": [
    "##Inspired from Udacity's course\n",
    "\n",
    "#Import required packages\n",
    "import scipy.stats as st\n",
    "import numpy as np\n",
    "\n",
    "#Create a function to get the z-score for a desired significance level.\n",
    "#Returns only the positive side of the z-score, assuming that the alpha is for 2 tail testing\n",
    "def get_z_score(alpha):\n",
    "    return st.norm.ppf(alpha/2.0)\n",
    "\n",
    "#Create a function to return the p_value for an associated z-score    \n",
    "def get_pvalue(z_score):\n",
    "    return st.norm.cdf(z_score)\n",
    "\n",
    "\n",
    "def check_values(alpha, beta, general_se_at_1, desired_se_at_1 ,d_min):\n",
    "    try:\n",
    "        if alpha > 1 or alpha <0:\n",
    "            print(\"Supplied alpha value must be float and between (0,1)\")\n",
    "    except:\n",
    "        print(\"Supplied alpha value must be float and between (0,1)\")\n",
    "    try: \n",
    "        if beta > 1 or beta <0:\n",
    "            print(\"Supplied beta value must be float and between (0,1)\")\n",
    "    except:\n",
    "        print(\"Supplied beta value must be float and between (0,1)\")\n",
    "\n",
    "    if type(general_se_at_1) != float and type(general_se_at_1) != int:\n",
    "        raise Exception(\"Supplied general_se_at_1 value must be float\")\n",
    "        exit(1)\n",
    "\n",
    "    if type(desired_se_at_1) != float and type(desired_se_at_1) != int:\n",
    "        raise Exception(\"Supplied desired_se_at_1 value must be float\")\n",
    "        exit(1)\n",
    "\n",
    "        \n",
    "    if type(d_min) != float and type(d_min) != int:\n",
    "        raise Exception(\"Supplied d_min value must be float\")\n",
    "        exit(1)\n",
    "\n",
    "def find_sample_size(alpha, beta, general_se_at_1, desired_se_at_1 ,d_min):\n",
    "    #check_values(alpha, beta, p, d)\n",
    "    \n",
    "    #Get the z-score on the positive side, for the sig. level or alpha:\n",
    "    z_score = -1*get_z_score(alpha)\n",
    "    \n",
    "    #Compute the q value, which is nothing but 1-p\n",
    "    #q = 1-p\n",
    "    \n",
    "    for n in range(1, 20000,1):\n",
    "        #std. error for given p (existing proportion or general proportion)\n",
    "        general_se_at_n = general_se_at_1/np.sqrt(n)\n",
    "        \n",
    "        #Find the positive boundary using the above se, assuming the true difference as 0\n",
    "        x = z_score * general_se_at_n\n",
    "\n",
    "        #std. error for given p+d (existing proportion + desired difference: p+d_min)\n",
    "        #The desired_se_at_1 was already precomputed with p+d_min as the mean, so need for \n",
    "        #any other change. Note that desired_se_at_1 is supplied as a parameter to this function\n",
    "        desired_se_at_n = desired_se_at_1/np.sqrt(n)\n",
    "        \n",
    "        #Check what is the p-value for x, assuming the mean as d_min, and std error as desired_se_at_n\n",
    "        z_score_2 = (x-d_min)/desired_se_at_n\n",
    "        temp_beta = get_pvalue(z_score_2)\n",
    "        \n",
    "        if temp_beta <= beta:\n",
    "            return n\n",
    "\n",
    "    return -1   \n",
    "        \n",
    "        \n",
    "        \n",
    "    "
   ]
  },
  {
   "cell_type": "code",
   "execution_count": 53,
   "metadata": {},
   "outputs": [
    {
     "data": {
      "text/plain": [
       "2879"
      ]
     },
     "execution_count": 53,
     "metadata": {},
     "output_type": "execute_result"
    }
   ],
   "source": [
    "#find_sample_size(alpha=.05, beta=.2, p=.2, d=.03)\n",
    "find_sample_size(alpha=0.05, beta=0.2, general_se_at_1=np.sqrt(0.2*0.8*2), desired_se_at_1=np.sqrt(0.23*0.77*2),d_min = 0.03)"
   ]
  },
  {
   "cell_type": "code",
   "execution_count": null,
   "metadata": {
    "collapsed": true
   },
   "outputs": [],
   "source": []
  }
 ],
 "metadata": {
  "kernelspec": {
   "display_name": "Python 3",
   "language": "python",
   "name": "python3"
  },
  "language_info": {
   "codemirror_mode": {
    "name": "ipython",
    "version": 3
   },
   "file_extension": ".py",
   "mimetype": "text/x-python",
   "name": "python",
   "nbconvert_exporter": "python",
   "pygments_lexer": "ipython3",
   "version": "3.5.3"
  }
 },
 "nbformat": 4,
 "nbformat_minor": 2
}
