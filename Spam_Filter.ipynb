{
 "cells": [
  {
   "cell_type": "markdown",
   "metadata": {},
   "source": [
    "# A simple Spam filter project\n",
    "Downloaded 2 files given below from http://spamassassin.apache.org/old/publiccorpus/:\n",
    "* 20050311_spam_2.tar.bz2\n",
    "* 20030228_easy_ham.tar.bz2\n",
    "\n",
    "Unzipped the above files and saved in the folder (on windiws machine): \n",
    "Ham emails at: <current dir>\\datasets\\email\\20030228_easy_ham \n",
    "Spam emails at: <current dir>\\datasets\\email\\20050311_spam_2\n",
    "\n",
    "We will use the *mail* package to extract the text content of the emails."
   ]
  },
  {
   "cell_type": "code",
   "execution_count": 1,
   "metadata": {
    "collapsed": true
   },
   "outputs": [],
   "source": [
    "#Importing the required packages:\n",
    "\n",
    "import email\n",
    "\n",
    "import pandas as pd\n",
    "import numpy as np\n",
    "from IPython.display import display # Allows the use of display() for DataFrames\n",
    "import time\n",
    "import pickle #To save the objects that were created using webscraping\n",
    "import pprint\n",
    "from lxml import html\n",
    "import requests\n",
    "from sklearn.model_selection import train_test_split\n",
    "import warnings\n",
    "warnings.filterwarnings('ignore')\n",
    "from urllib.request import urlopen\n",
    "from bs4 import BeautifulSoup\n",
    "from IPython.display import HTML\n",
    "import re\n",
    "import urllib\n",
    "import os"
   ]
  },
  {
   "cell_type": "markdown",
   "metadata": {},
   "source": [
    "## Cleaning the data\n",
    "Let us print an email text. This will make sure that wer are able to read the text data from the email message. We will create another set of data (cleaned data) with just the email content (removing the email header)"
   ]
  },
  {
   "cell_type": "code",
   "execution_count": 147,
   "metadata": {},
   "outputs": [
    {
     "name": "stdout",
     "output_type": "stream",
     "text": [
      "<class 'str'>\n",
      "[<email.message.Message object at 0x00000215B0247F60>]\n",
      "multipart/alternative\n"
     ]
    }
   ],
   "source": [
    "#p = 'datasets/email/20030228_easy_ham/00001.7c53336b37003a9286aba55d2945844c'\n",
    "#p= './datasets/email/20030228_easy_ham/00007.37a8af848caae585af4fe35779656d55'\n",
    "#p= './datasets/email/20030228_easy_ham/00014.cb20e10b2bfcb8210a1c310798532a57'\n",
    "#p= './datasets/email/20030228_easy_ham/01436.dc449ba377210e77d84647619e49c872'\n",
    "p= './datasets/email/20050311_spam_2/01214.973b4598b630a989967ff69b19f95d4a'\n",
    "\n",
    "with open(p, 'r',encoding='utf-8',errors='ignore') as f:\n",
    "    text = f.read()\n",
    "    print(type(text))\n",
    "print(list(msg.walk())    )\n",
    "msg = email.message_from_string(text)\n",
    "for part in msg.walk():\n",
    "    print(part.get_content_type())\n",
    "    # each part is a either non-multipart, or another multipart message\n",
    "    # that contains further parts... Message is organized like a tree\n",
    "    if part.get_content_type() == 'text/plain':\n",
    "        print(part.get_payload()) # prints the raw text\n",
    "    if part.get_content_type() == 'text/html':\n",
    "        print(part.get_payload()) # prints the raw text        \n",
    "    #if part.get_content_type() == 'multipart/alternative':\n",
    "    #    print(part.get_payload()) # prints the raw text            "
   ]
  },
  {
   "cell_type": "markdown",
   "metadata": {},
   "source": [
    "### Cleaning and saving the cleaned data\n",
    "We will save the cleaned data into two folders:\n",
    "<current dir>/datasets/email/cleaned_ham\n",
    "<current dir>/datasets/email/cleaned_spam"
   ]
  },
  {
   "cell_type": "markdown",
   "metadata": {},
   "source": [
    "## Functions definitions\n",
    "We will use the following functions to clean the data. You can skip this section, since I will upload the cleaned data as a .csv file."
   ]
  },
  {
   "cell_type": "code",
   "execution_count": 81,
   "metadata": {},
   "outputs": [],
   "source": [
    "import re\n",
    "import string\n",
    "import nltk\n",
    "from collections import Counter\n",
    "from nltk.corpus import stopwords\n",
    "\n",
    "def Read_File(p):\n",
    "  with open(p, 'r',encoding='utf-8',errors='ignore') as f:\n",
    "    #print(p)\n",
    "    msg = f.read()\n",
    "    msg = email.message_from_string(msg)\n",
    "    #print(type(msg))\n",
    "    #print(msg)\n",
    "    \n",
    "    for part in msg.walk():\n",
    "       # each part is a either non-multipart, or another multipart message\n",
    "       # that contains further parts... Message is organized like a tree\n",
    "       #if part.get_content_type().lower() == 'text/plain' or part.get_content_type().lower() == 'text/html':\n",
    "       if 'text/plain' in part.get_content_type().lower() or 'text/html' in part.get_content_type().lower():\n",
    "           text = part.get_payload()\n",
    "           #print(text)\n",
    "           #Convert all the text to lower case\n",
    "           #\n",
    "           lowers = text.lower()\n",
    "           #print(lowers)\n",
    "           #remove the punctuation using the character deletion step of translate\n",
    "           no_punctuation = lowers.translate(string.punctuation)\n",
    "           #print(no_punctuation)\n",
    "           tokens = nltk.word_tokenize(no_punctuation)\n",
    "           #print(tokens)\n",
    "           #return tokens\n",
    "           if len(tokens) > 0:\n",
    "                return tokens\n",
    "           else:\n",
    "                return -1\n",
    "    return -1\n",
    "\n",
    "def Remove_Stop_Words(tokens):\n",
    "    filtered = [w for w in tokens if not w in stopwords.words('english')]\n",
    "    return filtered\n",
    "\n",
    "def Clean_Text(tokens):\n",
    "    text = \" \".join(tokens)\n",
    "    #Remove punctuation marks, text in [], (, ), :\n",
    "    #filtered1 = re.sub('\\.|\\`|\\'|\\[.*\\]|\\(|\\)|,|:|\\+|_|<|>|\\\\|/|\\{|\\}', \" \",text)\n",
    "    filtered1 = re.sub(r'[^a-zA-Z0-9]',' ', text)\n",
    "    \n",
    "    #Remove any single characters\n",
    "    filtered1 = re.sub('(^| ).( |$)', \" \",filtered1)\n",
    "    #Remove any contiguous spaces    \n",
    "    filtered1 = re.sub(' +',\" \",filtered1)\n",
    "    \n",
    "    #Include only alpha numeric characters\n",
    "    filtered1=\" \".join([i for i in filtered1.split() if re.search('[0-9 a-z]*',i)])\n",
    "    return filtered1\n",
    "\n",
    "def Write_Error(mail,mail_type,msg,file='errors.txt'):\n",
    "    with open(file,'a') as f:\n",
    "        f.write(\"\\n\"+mail+' '+mail_type)\n",
    "        f.write(\"\\n\"+msg)\n",
    "        "
   ]
  },
  {
   "cell_type": "markdown",
   "metadata": {},
   "source": [
    "The following code will clean the data and produce a file called processed_data.csv file"
   ]
  },
  {
   "cell_type": "code",
   "execution_count": 84,
   "metadata": {},
   "outputs": [
    {
     "name": "stdout",
     "output_type": "stream",
     "text": [
      "Processed 100 files. Elapsed time:14.369221210479736 seconds\n",
      "Processed 200 files. Elapsed time:30.148219108581543 seconds\n",
      "Processed 300 files. Elapsed time:48.544952392578125 seconds\n",
      "Processed 400 files. Elapsed time:66.03262233734131 seconds\n",
      "Processed 500 files. Elapsed time:85.23448538780212 seconds\n",
      "Processed 600 files. Elapsed time:107.53376507759094 seconds\n",
      "Processed 700 files. Elapsed time:138.08142161369324 seconds\n",
      "Processed 800 files. Elapsed time:161.44909358024597 seconds\n",
      "Processed 900 files. Elapsed time:177.38367891311646 seconds\n",
      "Processed 1000 files. Elapsed time:202.1732234954834 seconds\n",
      "Processed 1100 files. Elapsed time:216.48671126365662 seconds\n",
      "Processed 1200 files. Elapsed time:230.30073070526123 seconds\n",
      "Processed 1300 files. Elapsed time:242.21566152572632 seconds\n",
      "Processed 1400 files. Elapsed time:257.8268840312958 seconds\n",
      "Processed 1500 files. Elapsed time:269.37083864212036 seconds\n",
      "Processed 1600 files. Elapsed time:284.37887358665466 seconds\n",
      "Processed 1700 files. Elapsed time:298.2214980125427 seconds\n",
      "Processed 1800 files. Elapsed time:313.8390176296234 seconds\n",
      "Processed 1900 files. Elapsed time:322.4992001056671 seconds\n",
      "Processed 2000 files. Elapsed time:329.38683915138245 seconds\n",
      "Processed 2100 files. Elapsed time:333.2504873275757 seconds\n",
      "Processed 2200 files. Elapsed time:336.9075241088867 seconds\n",
      "Processed 2300 files. Elapsed time:342.6410961151123 seconds\n",
      "Processed 2400 files. Elapsed time:350.3026967048645 seconds\n",
      "Processed 2500 files. Elapsed time:362.1080672740936 seconds\n",
      "Processed 2600 files. Elapsed time:474.93027782440186 seconds\n",
      "Processed 2700 files. Elapsed time:515.5853636264801 seconds\n",
      "Processed 2800 files. Elapsed time:551.0255019664764 seconds\n",
      "Processed 2900 files. Elapsed time:597.3785424232483 seconds\n",
      "Processed 3000 files. Elapsed time:649.2323732376099 seconds\n",
      "Processed 3100 files. Elapsed time:697.8495547771454 seconds\n",
      "Processed 3200 files. Elapsed time:746.2302403450012 seconds\n",
      "Processed 3300 files. Elapsed time:780.9716713428497 seconds\n",
      "Processed 3400 files. Elapsed time:808.4480624198914 seconds\n",
      "Processed 3500 files. Elapsed time:855.5074789524078 seconds\n",
      "Processed 3600 files. Elapsed time:901.1258270740509 seconds\n",
      "Processed 3700 files. Elapsed time:944.0168635845184 seconds\n",
      "Processed 3800 files. Elapsed time:979.2916629314423 seconds\n",
      "Processed 3897 files. Elapsed time:1015.5620102882385 seconds\n",
      "Now saving the result as processed_data.csv file...\n",
      "Data cleaning complete !!\n"
     ]
    }
   ],
   "source": [
    "#Process each file\n",
    "y = list()\n",
    "x = list()\n",
    "mail_type=list()\n",
    "k = 1\n",
    "file_names = os.listdir(\"./datasets/email/20030228_easy_ham\")\n",
    "start = time.time()\n",
    "\n",
    "for i in file_names:\n",
    "    y.append(k)\n",
    "    tokens = Read_File(\"./datasets/email/20030228_easy_ham/\"+i)\n",
    "    if tokens == -1:\n",
    "        Write_Error(i,'Ham','Text Not found','errors.txt')\n",
    "        continue\n",
    "        \n",
    "    tokens = Remove_Stop_Words(tokens)\n",
    "    cleaned_text = Clean_Text(tokens)\n",
    "    x.append(cleaned_text)\n",
    "    mail_type.append(0)\n",
    "    \n",
    "    k = k+1\n",
    "    if(k%100 == 0):\n",
    "        temp_time = time.time() - start\n",
    "        print(\"Processed {} files. Elapsed time:{} seconds\".format(k, temp_time))\n",
    "\n",
    "file_names = os.listdir(\"./datasets/email/20050311_spam_2\")\n",
    "for i in file_names:\n",
    "    k = k+1\n",
    "    y.append(k)\n",
    "    tokens = Read_File(\"./datasets/email/20050311_spam_2/\"+i)\n",
    "    if tokens == -1:\n",
    "        Write_Error(i,'Spam','Text Not found','errors.txt')\n",
    "        continue\n",
    "        \n",
    "    tokens = Remove_Stop_Words(tokens)\n",
    "    cleaned_text = Clean_Text(tokens)\n",
    "    x.append(cleaned_text)\n",
    "    mail_type.append(1)\n",
    "    \n",
    "    if(k%100 == 0):\n",
    "        temp_time = time.time() - start\n",
    "        print(\"Processed {} files. Elapsed time:{} seconds\".format(k, temp_time))\n",
    "\n",
    "temp_time = time.time() - start\n",
    "print(\"Processed {} files. Elapsed time:{} seconds\".format(k, temp_time))\n",
    "\n",
    "\n",
    "print(\"Now saving the result as processed_data.csv file...\")\n",
    "df=pd.DataFrame(list(zip(y,x,mail_type)),columns = [\"email_ID\",\"text\",\"mail_type\"])\n",
    "df.to_csv(\"./datasets/email/processed_data.csv\",encoding='utf-8',index=False)\n",
    "print(\"Data cleaning complete !!\")"
   ]
  },
  {
   "cell_type": "markdown",
   "metadata": {},
   "source": [
    "## Model development\n",
    "Reading the file..."
   ]
  },
  {
   "cell_type": "code",
   "execution_count": 148,
   "metadata": {},
   "outputs": [
    {
     "data": {
      "text/html": [
       "<div>\n",
       "<style>\n",
       "    .dataframe thead tr:only-child th {\n",
       "        text-align: right;\n",
       "    }\n",
       "\n",
       "    .dataframe thead th {\n",
       "        text-align: left;\n",
       "    }\n",
       "\n",
       "    .dataframe tbody tr th {\n",
       "        vertical-align: top;\n",
       "    }\n",
       "</style>\n",
       "<table border=\"1\" class=\"dataframe\">\n",
       "  <thead>\n",
       "    <tr style=\"text-align: right;\">\n",
       "      <th></th>\n",
       "      <th>email_ID</th>\n",
       "      <th>text</th>\n",
       "      <th>mail_type</th>\n",
       "    </tr>\n",
       "  </thead>\n",
       "  <tbody>\n",
       "    <tr>\n",
       "      <th>0</th>\n",
       "      <td>1</td>\n",
       "      <td>date wed 21 aug 2002 10 54 46 0500 chris garri...</td>\n",
       "      <td>0</td>\n",
       "    </tr>\n",
       "    <tr>\n",
       "      <th>1</th>\n",
       "      <td>2</td>\n",
       "      <td>martin posted tassos papadopoulos greek sculpt...</td>\n",
       "      <td>0</td>\n",
       "    </tr>\n",
       "    <tr>\n",
       "      <th>2</th>\n",
       "      <td>3</td>\n",
       "      <td>man threatens explosion moscow thursday august...</td>\n",
       "      <td>0</td>\n",
       "    </tr>\n",
       "    <tr>\n",
       "      <th>3</th>\n",
       "      <td>4</td>\n",
       "      <td>klez virus wo t die already prolific virus eve...</td>\n",
       "      <td>0</td>\n",
       "    </tr>\n",
       "    <tr>\n",
       "      <th>4</th>\n",
       "      <td>5</td>\n",
       "      <td>adding cream spaghetti carbonara effect pasta ...</td>\n",
       "      <td>0</td>\n",
       "    </tr>\n",
       "  </tbody>\n",
       "</table>\n",
       "</div>"
      ],
      "text/plain": [
       "   email_ID                                               text  mail_type\n",
       "0         1  date wed 21 aug 2002 10 54 46 0500 chris garri...          0\n",
       "1         2  martin posted tassos papadopoulos greek sculpt...          0\n",
       "2         3  man threatens explosion moscow thursday august...          0\n",
       "3         4  klez virus wo t die already prolific virus eve...          0\n",
       "4         5  adding cream spaghetti carbonara effect pasta ...          0"
      ]
     },
     "execution_count": 148,
     "metadata": {},
     "output_type": "execute_result"
    }
   ],
   "source": [
    "##\n",
    "df = pd.read_csv('./datasets/email/processed_data.csv')\n",
    "df.head()"
   ]
  },
  {
   "cell_type": "markdown",
   "metadata": {},
   "source": [
    "## Check how the target label is distributed\n"
   ]
  },
  {
   "cell_type": "code",
   "execution_count": 88,
   "metadata": {},
   "outputs": [
    {
     "data": {
      "image/png": "[encoded data removed]",
      "text/plain": [
       "<matplotlib.figure.Figure at 0x215b07abb38>"
      ]
     },
     "metadata": {},
     "output_type": "display_data"
    }
   ],
   "source": [
    "##How the data is distributed?\n",
    "import matplotlib.pyplot as plt\n",
    "plt.rcdefaults()\n",
    "import numpy as np\n",
    "fig, ax = plt.subplots()\n",
    "\n",
    "values = df['mail_type'].value_counts().values\n",
    "indices = list(df['mail_type'].value_counts().index)\n",
    "y_pos = np.arange(len(indices))\n",
    "\n",
    "ax.barh(y_pos, values, align='center',\n",
    "        color='green' )\n",
    "ax.set_yticks(y_pos)\n",
    "ax.set_yticklabels(indices)\n",
    "ax.invert_yaxis()  # labels read top-to-bottom\n",
    "ax.set_xlabel('Values')\n",
    "ax.set_title('Barchart example')\n",
    "\n",
    "plt.show()\n"
   ]
  },
  {
   "cell_type": "markdown",
   "metadata": {},
   "source": [
    "## Basic model\n",
    "We can see that there are approximately 36% of spam related observations, and 64% of non-spam related observations. If we predict all the emails as non-spam, then we will get an accuracy of 64%. We will consider this model as the base model, and our goal is to beat this basic model"
   ]
  },
  {
   "cell_type": "code",
   "execution_count": 153,
   "metadata": {},
   "outputs": [
    {
     "name": "stdout",
     "output_type": "stream",
     "text": [
      "Non-spam percentage: 64.1848523748\n",
      "Spam percentage: 35.8151476252\n"
     ]
    }
   ],
   "source": [
    "perc = values/values.sum() *  100\n",
    "print(\"Non-spam percentage:\", perc[0])\n",
    "print(\"Spam percentage:\", perc[1])"
   ]
  },
  {
   "cell_type": "markdown",
   "metadata": {},
   "source": [
    "## Split the data\n",
    "Let us split the data into test and train data sets. We will NOT use the test data, till the last step, to check how our model might behave on a colmpetely different set of data."
   ]
  },
  {
   "cell_type": "code",
   "execution_count": 154,
   "metadata": {},
   "outputs": [],
   "source": [
    "##Dividing the data into test/train\n",
    "from sklearn.model_selection import StratifiedShuffleSplit\n",
    "X = df.drop('mail_type',axis=1)\n",
    "y = df['mail_type']\n",
    "\n",
    "X_train, X_test, y_train, y_test = train_test_split( X, y, test_size=0.2, random_state=42, stratify=y)"
   ]
  },
  {
   "cell_type": "markdown",
   "metadata": {},
   "source": [
    "## Getting the TFIDF scores\n",
    "We wil quantify each word with TFIDF scores. The output will be a sparse matrix."
   ]
  },
  {
   "cell_type": "code",
   "execution_count": 155,
   "metadata": {},
   "outputs": [
    {
     "name": "stdout",
     "output_type": "stream",
     "text": [
      "The TF-IDF matrix has 3116 rows and 44399 columns\n"
     ]
    }
   ],
   "source": [
    "from sklearn.feature_extraction.text import TfidfVectorizer\n",
    "tfidf_vectorizer = TfidfVectorizer()\n",
    "tfidf_matrix = tfidf_vectorizer.fit_transform(X_train[\"text\"].values.astype('U'))\n",
    "\n",
    "print(\"The TF-IDF matrix has {} rows and {} columns\".format(tfidf_matrix.shape[0],tfidf_matrix.shape[1]))"
   ]
  },
  {
   "cell_type": "code",
   "execution_count": 156,
   "metadata": {},
   "outputs": [
    {
     "data": {
      "text/plain": [
       "3116"
      ]
     },
     "execution_count": 156,
     "metadata": {},
     "output_type": "execute_result"
    }
   ],
   "source": [
    "#Length of training data\n",
    "len(y_train)"
   ]
  },
  {
   "cell_type": "markdown",
   "metadata": {},
   "source": [
    "## Training the Random Forest classifier"
   ]
  },
  {
   "cell_type": "code",
   "execution_count": 157,
   "metadata": {},
   "outputs": [
    {
     "data": {
      "text/plain": [
       "RandomForestClassifier(bootstrap=True, class_weight=None, criterion='gini',\n",
       "            max_depth=None, max_features='auto', max_leaf_nodes=None,\n",
       "            min_impurity_split=1e-07, min_samples_leaf=1,\n",
       "            min_samples_split=2, min_weight_fraction_leaf=0.0,\n",
       "            n_estimators=10, n_jobs=1, oob_score=False, random_state=None,\n",
       "            verbose=0, warm_start=False)"
      ]
     },
     "execution_count": 157,
     "metadata": {},
     "output_type": "execute_result"
    }
   ],
   "source": [
    "from sklearn.ensemble import RandomForestClassifier\n",
    "rf = RandomForestClassifier()\n",
    "rf.fit(tfidf_matrix,y_train)"
   ]
  },
  {
   "cell_type": "markdown",
   "metadata": {},
   "source": [
    "## Get the cross validate predict\n",
    "We will get the predictions using the CV technique on the training data. This will help us to estimate the precision, recall, accuracy and f1 score measures."
   ]
  },
  {
   "cell_type": "code",
   "execution_count": 158,
   "metadata": {
    "collapsed": true
   },
   "outputs": [],
   "source": [
    "from sklearn.model_selection import cross_val_predict\n",
    "y_train_predict = cross_val_predict(rf,tfidf_matrix,y_train, cv=5)"
   ]
  },
  {
   "cell_type": "markdown",
   "metadata": {},
   "source": [
    "## Confusing matrix"
   ]
  },
  {
   "cell_type": "code",
   "execution_count": 101,
   "metadata": {},
   "outputs": [
    {
     "data": {
      "text/plain": [
       "array([[1987,   13],\n",
       "       [ 114, 1002]])"
      ]
     },
     "execution_count": 101,
     "metadata": {},
     "output_type": "execute_result"
    }
   ],
   "source": [
    "from sklearn.metrics import confusion_matrix\n",
    "confusion_matrix(y_train,y_train_predict)"
   ]
  },
  {
   "cell_type": "code",
   "execution_count": 159,
   "metadata": {},
   "outputs": [
    {
     "data": {
      "text/plain": [
       "0.96052631578947367"
      ]
     },
     "execution_count": 159,
     "metadata": {},
     "output_type": "execute_result"
    }
   ],
   "source": [
    "from sklearn.metrics import accuracy_score\n",
    "#(1987+1002)/(1987+1002+13+114)\n",
    "accuracy_score(y_train,y_train_predict)"
   ]
  },
  {
   "cell_type": "markdown",
   "metadata": {},
   "source": [
    "Accuracy of 96% is way better than the base model accuracy of 64%. So Random Forest model is definitely a suggested model to filter spam. Let us see the other performance mesaures."
   ]
  },
  {
   "cell_type": "code",
   "execution_count": 161,
   "metadata": {},
   "outputs": [
    {
     "name": "stdout",
     "output_type": "stream",
     "text": [
      "Precison score: 0.98250728863\n",
      "Recall score: 0.905913978495\n",
      "F1 score: 0.942657342657\n"
     ]
    }
   ],
   "source": [
    "from sklearn.metrics import precision_score, recall_score, f1_score\n",
    "print(\"Precison score:\",precision_score(y_train,y_train_predict))\n",
    "print(\"Recall score:\", recall_score(y_train,y_train_predict))\n",
    "print(\"F1 score:\",f1_score(y_train,y_train_predict))"
   ]
  },
  {
   "cell_type": "markdown",
   "metadata": {},
   "source": [
    "A precision of 98% is really a good score, for spam filtering, since we are interested in improving the precision (and not recall), since we want to make sure that we will not misclassify a ham email as spam. The precision can be further improved, by increasing the cutoff probability, but I will not do that here."
   ]
  },
  {
   "cell_type": "markdown",
   "metadata": {},
   "source": [
    "## Getting the feature importances\n",
    "Let us display the top 100 features used by our model"
   ]
  },
  {
   "cell_type": "code",
   "execution_count": 162,
   "metadata": {},
   "outputs": [
    {
     "data": {
      "text/plain": [
       "[(0.035620363439853128, 'border'),\n",
       " (0.031136429146829799, 'size'),\n",
       " (0.026632411815006717, '2002'),\n",
       " (0.021491890605686986, 'align'),\n",
       " (0.015894495794672427, 'you'),\n",
       " (0.015396055644128917, 'br'),\n",
       " (0.014072676850856669, 'valign'),\n",
       " (0.01220206368953998, 'height'),\n",
       " (0.011838561638309012, 'href'),\n",
       " (0.011483191101635606, 'visit'),\n",
       " (0.011270203059818419, 'ffffff'),\n",
       " (0.010742063995987644, 'url'),\n",
       " (0.010462455704310581, 'low'),\n",
       " (0.010068191297623512, 'mortgage'),\n",
       " (0.0093544770272505351, 'text'),\n",
       " (0.0090598474047168028, 'free'),\n",
       " (0.0090535782895586996, 'million'),\n",
       " (0.0085827322810476912, 'wrote'),\n",
       " (0.0080779363949716899, 'htm'),\n",
       " (0.0079961729388226474, 'click'),\n",
       " (0.0076536564451920464, 'removed'),\n",
       " (0.0076519911949355507, 'nbsp'),\n",
       " (0.0076004207894714917, 'sans'),\n",
       " (0.0064944025348859609, 'professional'),\n",
       " (0.0060286342856505862, 'program'),\n",
       " (0.005960639023587103, 'cn'),\n",
       " (0.0058961249348952922, 'dear'),\n",
       " (0.0058894497516805084, '000'),\n",
       " (0.0057003571799342937, 'date'),\n",
       " (0.0056211070456602986, 'please'),\n",
       " (0.0056001972862577427, '3d1'),\n",
       " (0.0055775757271131913, 'font'),\n",
       " (0.0055503933425816061, 'table'),\n",
       " (0.0053232394880026769, 'arial'),\n",
       " (0.0051168295316509713, 'deathtospamdeathtospamdeathtospam'),\n",
       " (0.0043963410170855411, 'professionals'),\n",
       " (0.0043871571014219716, 'head'),\n",
       " (0.0043155419235107297, '8859'),\n",
       " (0.0041211343514844061, 'cellspacing'),\n",
       " (0.0038484644713454412, '800'),\n",
       " (0.0037358495647311202, 'lowest'),\n",
       " (0.0036699187764928261, 'us'),\n",
       " (0.0035048528989768597, 'easy'),\n",
       " (0.003371040278494046, 'reply'),\n",
       " (0.0033580966371410106, 'pay'),\n",
       " (0.0032083281223533504, 'future'),\n",
       " (0.0031962325853280419, '3dwindows'),\n",
       " (0.0030458653500466011, 'financial'),\n",
       " (0.0030313145904396722, 'pgi'),\n",
       " (0.0029454377730417872, 'confidential'),\n",
       " (0.0029432871621851396, 'ul'),\n",
       " (0.0028236125368967893, 'background'),\n",
       " (0.0028104092981122378, 'marketing'),\n",
       " (0.0027792446143108545, 'bin'),\n",
       " (0.0027058547552772697, 'remove'),\n",
       " (0.0027022837920385625, 'thank'),\n",
       " (0.0026305190587836563, 'http'),\n",
       " (0.0025851588509840278, 'insurance'),\n",
       " (0.002563487080472323, 'the'),\n",
       " (0.0025390613266852479, 'info'),\n",
       " (0.0025351282044100538, 'dollars'),\n",
       " (0.0025021883021911048, 'bank'),\n",
       " (0.0024909481877465793, 'within'),\n",
       " (0.0024838820831876258, 'rates'),\n",
       " (0.0023949349829724734, 'mshtml'),\n",
       " (0.0023579313650701778, 'return'),\n",
       " (0.0023338894695999783, 'pgh0bww'),\n",
       " (0.0023326247700814267, 'communication'),\n",
       " (0.0022902690693701972, '75'),\n",
       " (0.0022811894115991505, 'bulk'),\n",
       " (0.0022367431804806667, 'sightings'),\n",
       " (0.0022232242916844025, 'feedback'),\n",
       " (0.0021629195612915572, 'information'),\n",
       " (0.0021563658702578848, '10'),\n",
       " (0.0021433183361121095, '3d4'),\n",
       " (0.0021132870809388829, 'internet'),\n",
       " (0.0020371636175907986, 'opportunities'),\n",
       " (0.0020155923125555154, 'center'),\n",
       " (0.0020054314085245109, 'form'),\n",
       " (0.0019167797929694145, 'com'),\n",
       " (0.0018733351290405001, 'net'),\n",
       " (0.00180942319411714, '000000'),\n",
       " (0.0017363900358183574, 'price'),\n",
       " (0.0017286133795502948, 'on'),\n",
       " (0.0017035382675676179, 'sales'),\n",
       " (0.0016873643780556387, '01'),\n",
       " (0.0016585793877357199, 'mailings'),\n",
       " (0.0016581376126864424, 'contact'),\n",
       " (0.0016490301675778786, '98'),\n",
       " (0.001640369046438469, 'happen'),\n",
       " (0.0016300721142895533, 'cost'),\n",
       " (0.0016286917517190104, 'earning'),\n",
       " (0.0016237951798693112, 'telephone'),\n",
       " (0.0016148440620149997, 'listinfo'),\n",
       " (0.0016119636957186764, 'meta'),\n",
       " (0.0015990952534010103, 'simply'),\n",
       " (0.0015892658735259415, 'expiration'),\n",
       " (0.0015780627151677402, 'data'),\n",
       " (0.0015691583256566527, 'serif'),\n",
       " (0.0015539758859286121, 'legal')]"
      ]
     },
     "execution_count": 162,
     "metadata": {},
     "output_type": "execute_result"
    }
   ],
   "source": [
    "sorted(zip(rf.feature_importances_,tfidf_vectorizer.get_feature_names()),reverse=True)[0:100]"
   ]
  },
  {
   "cell_type": "markdown",
   "metadata": {},
   "source": [
    "## Developing the model using a pipeline\n",
    "Now we will implement the same work using Pipeline method."
   ]
  },
  {
   "cell_type": "code",
   "execution_count": 163,
   "metadata": {},
   "outputs": [],
   "source": [
    "## Developing a pipeline\n",
    "\n",
    "from sklearn.base import BaseEstimator, TransformerMixin\n",
    "from sklearn.pipeline import Pipeline\n",
    "from sklearn.preprocessing import StandardScaler, LabelBinarizer, MinMaxScaler\n",
    "from sklearn.pipeline import FeatureUnion\n",
    "from sklearn.preprocessing import Imputer\n",
    "\n",
    "class TFIDFTransformer(BaseEstimator, TransformerMixin):\n",
    "    from sklearn.feature_extraction.text import TfidfVectorizer\n",
    "    def __init__(self): #NO *args or **kargs\n",
    "        return None\n",
    "    \n",
    "    def fit(self, X, y=None):\n",
    "        self.tfidf_vectorizer=TfidfVectorizer()\n",
    "        self.tfidf_vectorizer.fit(X[\"text\"].values.astype('U'))\n",
    "        return self\n",
    "\n",
    "    \n",
    "    def transform(self, X, y=None):\n",
    "        return self.tfidf_vectorizer.transform(X[\"text\"].values.astype('U'))\n",
    "        \n",
    "prepare_and_train = Pipeline([('tfidf',TFIDFTransformer()),('rf',RandomForestClassifier())])"
   ]
  },
  {
   "cell_type": "code",
   "execution_count": 164,
   "metadata": {},
   "outputs": [],
   "source": [
    "from sklearn.model_selection import GridSearchCV\n",
    "prepare_and_train.fit(X_train,y_train)\n",
    "y_train_predict = cross_val_predict(prepare_and_train,X_train,y_train, cv=5)"
   ]
  },
  {
   "cell_type": "markdown",
   "metadata": {},
   "source": [
    "## Getting the accuracy matrix"
   ]
  },
  {
   "cell_type": "code",
   "execution_count": 165,
   "metadata": {},
   "outputs": [
    {
     "data": {
      "text/plain": [
       "array([[1971,   29],\n",
       "       [  98, 1018]])"
      ]
     },
     "execution_count": 165,
     "metadata": {},
     "output_type": "execute_result"
    }
   ],
   "source": [
    "from sklearn.metrics import confusion_matrix\n",
    "confusion_matrix(y_train,y_train_predict)"
   ]
  },
  {
   "cell_type": "code",
   "execution_count": 140,
   "metadata": {},
   "outputs": [
    {
     "data": {
      "text/plain": [
       "0.93808630393996251"
      ]
     },
     "execution_count": 140,
     "metadata": {},
     "output_type": "execute_result"
    }
   ],
   "source": [
    "from sklearn.metrics import f1_score\n",
    "f1_score(y_train,y_train_predict)"
   ]
  },
  {
   "cell_type": "code",
   "execution_count": 166,
   "metadata": {},
   "outputs": [
    {
     "name": "stdout",
     "output_type": "stream",
     "text": [
      "precision score: 0.972301814709\n",
      "recall score: 0.912186379928\n",
      "F1 score: 0.941285251965\n",
      "accuracy score: 0.959242618742\n"
     ]
    }
   ],
   "source": [
    "from sklearn.metrics import precision_score, recall_score, f1_score, accuracy_score\n",
    "print(\"precision score:\",precision_score(y_train,y_train_predict))\n",
    "print(\"recall score:\",recall_score(y_train,y_train_predict))\n",
    "print(\"F1 score:\",f1_score(y_train,y_train_predict))\n",
    "print(\"accuracy score:\",accuracy_score(y_train,y_train_predict))"
   ]
  },
  {
   "cell_type": "markdown",
   "metadata": {},
   "source": [
    "## Model evaluation on the test data\n",
    "Let us evaluate our model on the test data"
   ]
  },
  {
   "cell_type": "code",
   "execution_count": 167,
   "metadata": {
    "collapsed": true
   },
   "outputs": [],
   "source": [
    "#Getting the test score finally:\n",
    "y_test_predict=prepare_and_train.predict(X_test)"
   ]
  },
  {
   "cell_type": "code",
   "execution_count": 168,
   "metadata": {},
   "outputs": [
    {
     "name": "stdout",
     "output_type": "stream",
     "text": [
      "Test f1 score: 0.955056179775\n",
      "Test precision score: 1.0\n",
      "Test recall score: 0.913978494624\n",
      "Test accuracy score: 0.96919127086\n"
     ]
    }
   ],
   "source": [
    "print(\"Test f1 score:\",f1_score(y_test,y_test_predict))\n",
    "print(\"Test precision score:\",precision_score(y_test,y_test_predict))\n",
    "print(\"Test recall score:\",recall_score(y_test,y_test_predict))\n",
    "print(\"Test accuracy score:\",accuracy_score(y_test,y_test_predict))"
   ]
  },
  {
   "cell_type": "markdown",
   "metadata": {},
   "source": [
    "## Conclusion\n",
    "The test evaluation also shows that we are getting very good precision score, so our model based on the Random Forest Classifier is good."
   ]
  },
  {
   "cell_type": "code",
   "execution_count": null,
   "metadata": {
    "collapsed": true
   },
   "outputs": [],
   "source": []
  }
 ],
 "metadata": {
  "kernelspec": {
   "display_name": "Python 3",
   "language": "python",
   "name": "python3"
  },
  "language_info": {
   "codemirror_mode": {
    "name": "ipython",
    "version": 3
   },
   "file_extension": ".py",
   "mimetype": "text/x-python",
   "name": "python",
   "nbconvert_exporter": "python",
   "pygments_lexer": "ipython3",
   "version": "3.5.3"
  }
 },
 "nbformat": 4,
 "nbformat_minor": 2
}
